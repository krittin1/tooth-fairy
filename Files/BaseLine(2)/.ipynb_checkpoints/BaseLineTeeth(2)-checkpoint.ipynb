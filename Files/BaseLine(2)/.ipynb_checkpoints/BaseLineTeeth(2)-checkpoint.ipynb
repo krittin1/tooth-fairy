{
 "cells": [
  {
   "cell_type": "code",
   "execution_count": 1,
   "metadata": {},
   "outputs": [
    {
     "name": "stderr",
     "output_type": "stream",
     "text": [
      "C:\\Users\\sppol\\Miniconda3\\envs\\py36\\lib\\site-packages\\tensorflow\\python\\framework\\dtypes.py:523: FutureWarning: Passing (type, 1) or '1type' as a synonym of type is deprecated; in a future version of numpy, it will be understood as (type, (1,)) / '(1,)type'.\n",
      "  _np_qint8 = np.dtype([(\"qint8\", np.int8, 1)])\n",
      "C:\\Users\\sppol\\Miniconda3\\envs\\py36\\lib\\site-packages\\tensorflow\\python\\framework\\dtypes.py:524: FutureWarning: Passing (type, 1) or '1type' as a synonym of type is deprecated; in a future version of numpy, it will be understood as (type, (1,)) / '(1,)type'.\n",
      "  _np_quint8 = np.dtype([(\"quint8\", np.uint8, 1)])\n",
      "C:\\Users\\sppol\\Miniconda3\\envs\\py36\\lib\\site-packages\\tensorflow\\python\\framework\\dtypes.py:525: FutureWarning: Passing (type, 1) or '1type' as a synonym of type is deprecated; in a future version of numpy, it will be understood as (type, (1,)) / '(1,)type'.\n",
      "  _np_qint16 = np.dtype([(\"qint16\", np.int16, 1)])\n",
      "C:\\Users\\sppol\\Miniconda3\\envs\\py36\\lib\\site-packages\\tensorflow\\python\\framework\\dtypes.py:526: FutureWarning: Passing (type, 1) or '1type' as a synonym of type is deprecated; in a future version of numpy, it will be understood as (type, (1,)) / '(1,)type'.\n",
      "  _np_quint16 = np.dtype([(\"quint16\", np.uint16, 1)])\n",
      "C:\\Users\\sppol\\Miniconda3\\envs\\py36\\lib\\site-packages\\tensorflow\\python\\framework\\dtypes.py:527: FutureWarning: Passing (type, 1) or '1type' as a synonym of type is deprecated; in a future version of numpy, it will be understood as (type, (1,)) / '(1,)type'.\n",
      "  _np_qint32 = np.dtype([(\"qint32\", np.int32, 1)])\n",
      "C:\\Users\\sppol\\Miniconda3\\envs\\py36\\lib\\site-packages\\tensorflow\\python\\framework\\dtypes.py:532: FutureWarning: Passing (type, 1) or '1type' as a synonym of type is deprecated; in a future version of numpy, it will be understood as (type, (1,)) / '(1,)type'.\n",
      "  np_resource = np.dtype([(\"resource\", np.ubyte, 1)])\n",
      "Using TensorFlow backend.\n"
     ]
    }
   ],
   "source": [
    "import cv2\n",
    "import numpy as np\n",
    "import tensorflow\n",
    "import keras\n",
    "import os\n",
    "import matplotlib.pyplot as plt\n",
    "from random import shuffle\n",
    "from sklearn.model_selection import train_test_split\n",
    "from random import shuffle\n",
    "from sklearn.metrics import classification_report\n",
    "from tensorflow.keras.preprocessing.image import ImageDataGenerator\n",
    "from keras.optimizers import Adam"
   ]
  },
  {
   "cell_type": "code",
   "execution_count": 4,
   "metadata": {},
   "outputs": [],
   "source": [
    "imageSize = 64\n",
    "train_data_dir = \"C:/Users/sppol/Documents/Ai_deeplearning/BaseLine_Dataset/train\"\n",
    "validation_data_dir = \"C:/Users/sppol/Documents/Ai_deeplearning/BaseLine_Dataset/validation\"\n",
    "test_data_dir = \"C:/Users/sppol/Documents/Ai_deeplearning/BaseLine_Dataset/test\""
   ]
  },
  {
   "cell_type": "code",
   "execution_count": 5,
   "metadata": {},
   "outputs": [
    {
     "name": "stdout",
     "output_type": "stream",
     "text": [
      "Found 1204 images belonging to 2 classes.\n",
      "Found 459 images belonging to 2 classes.\n",
      "Found 459 images belonging to 2 classes.\n"
     ]
    }
   ],
   "source": [
    "train_datagen = ImageDataGenerator(rescale=1./255,\n",
    "    shear_range=0.1,                \n",
    "    zoom_range=0.1,\n",
    "    width_shift_range=0.2,\n",
    "    height_shift_range=0.2,\n",
    "    rotation_range=45,                              \n",
    "    horizontal_flip=True,\n",
    "    ) # set validation split\n",
    "\n",
    "validation_datagen = ImageDataGenerator(rescale=1./255)\n",
    "test_datagen = ImageDataGenerator(rescale=1./255)\n",
    "\n",
    "train_generator = train_datagen.flow_from_directory(\n",
    "    train_data_dir,\n",
    "    target_size=(imageSize, imageSize),#64\n",
    "    batch_size=32,\n",
    "    color_mode=\"grayscale\",\n",
    "    classes=['Normal','Diseases']\n",
    "#     class_mode='categorical',\n",
    "    ) # set as training data\n",
    "\n",
    "validation_generator = validation_datagen.flow_from_directory(\n",
    "    validation_data_dir,\n",
    "    target_size=(imageSize, imageSize),#64\n",
    "    batch_size=32,\n",
    "    shuffle=False,\n",
    "    color_mode=\"grayscale\",\n",
    "#     class_mode='categorical',\n",
    "    classes=['Normal','Diseases']\n",
    "   \n",
    "    ) # set as validation data\n",
    "\n",
    "test_generator = test_datagen.flow_from_directory(\n",
    "    test_data_dir,\n",
    "    target_size=(imageSize, imageSize),#64\n",
    "    batch_size=24,\n",
    "    color_mode=\"grayscale\",\n",
    "    shuffle=False,\n",
    "#     class_mode='categorical',\n",
    "    classes=['Normal','Diseases']\n",
    "   \n",
    "    ) # set as test data\n"
   ]
  },
  {
   "cell_type": "code",
   "execution_count": 6,
   "metadata": {},
   "outputs": [],
   "source": [
    "from keras.models import Sequential\n",
    "from keras.layers import Conv2D, Dense, Flatten, MaxPooling2D\n",
    "from keras.layers import Activation ,Dropout\n",
    "from keras import optimizers"
   ]
  },
  {
   "cell_type": "code",
   "execution_count": 7,
   "metadata": {},
   "outputs": [
    {
     "name": "stdout",
     "output_type": "stream",
     "text": [
      "_________________________________________________________________\n",
      "Layer (type)                 Output Shape              Param #   \n",
      "=================================================================\n",
      "conv2d_1 (Conv2D)            (None, 64, 64, 32)        320       \n",
      "_________________________________________________________________\n",
      "max_pooling2d_1 (MaxPooling2 (None, 32, 32, 32)        0         \n",
      "_________________________________________________________________\n",
      "conv2d_2 (Conv2D)            (None, 32, 32, 64)        18496     \n",
      "_________________________________________________________________\n",
      "max_pooling2d_2 (MaxPooling2 (None, 16, 16, 64)        0         \n",
      "_________________________________________________________________\n",
      "dropout_1 (Dropout)          (None, 16, 16, 64)        0         \n",
      "_________________________________________________________________\n",
      "flatten_1 (Flatten)          (None, 16384)             0         \n",
      "_________________________________________________________________\n",
      "dense_1 (Dense)              (None, 64)                1048640   \n",
      "_________________________________________________________________\n",
      "dropout_2 (Dropout)          (None, 64)                0         \n",
      "_________________________________________________________________\n",
      "dense_2 (Dense)              (None, 2)                 130       \n",
      "=================================================================\n",
      "Total params: 1,067,586\n",
      "Trainable params: 1,067,586\n",
      "Non-trainable params: 0\n",
      "_________________________________________________________________\n"
     ]
    }
   ],
   "source": [
    "teeth = Sequential()\n",
    "teeth.add(Conv2D(32, (3, 3),  strides=(1, 1), padding = \"same\", activation = \"relu\", input_shape = (64, 64, 1)))\n",
    "teeth.add(MaxPooling2D((2, 2)))\n",
    "\n",
    "\n",
    "teeth.add(Conv2D(64, (3, 3),strides=(1, 1), padding = \"same\", activation = \"relu\"))\n",
    "teeth.add(MaxPooling2D((2, 2)))\n",
    "\n",
    "teeth.add(Dropout(0.5))\n",
    "\n",
    "teeth.add(Flatten())\n",
    "\n",
    "teeth.add(Dense(64, activation='relu'))\n",
    "teeth.add(Dropout(0.5))\n",
    "teeth.add(Dense(2, activation = \"sigmoid\"))\n",
    "\n",
    "# snake.compile(optimizer ='RMSprop', loss = \"binary_crossentropy\", metrics = [\"accuracy\"])\n",
    "# snake.compile( optimizer=rms, loss = \"binary_crossentropy\", metrics = [\"accuracy\"])\n",
    "\n",
    "teeth.compile(Adam(lr=0.001),loss = \"binary_crossentropy\", metrics = [\"accuracy\"])\n",
    "\n",
    "teeth.summary()"
   ]
  },
  {
   "cell_type": "code",
   "execution_count": 8,
   "metadata": {},
   "outputs": [],
   "source": [
    "filepath = \"C:/Users/sppol/Documents/Ai_deeplearning/Files/BaseLine(2)/BaseLineTeeth(2).h5\"\n",
    "from keras.callbacks import ModelCheckpoint\n",
    "\n",
    "checkpointer = ModelCheckpoint(filepath, monitor='val_loss', verbose=1,\n",
    "                               save_best_only=True, save_weights_only=False,\n",
    "                               mode='min', period=1)\n",
    "early_stopper =  keras.callbacks.EarlyStopping(monitor='val_loss', min_delta=1e-3, patience=4, verbose=1, mode='auto',\n",
    "        restore_best_weights=True)\n",
    "my_callbacks = [early_stopper,checkpointer]"
   ]
  },
  {
   "cell_type": "code",
   "execution_count": 9,
   "metadata": {},
   "outputs": [
    {
     "name": "stdout",
     "output_type": "stream",
     "text": [
      "Epoch 1/100\n",
      "300/300 [==============================] - 125s 418ms/step - loss: 0.4033 - acc: 0.7778 - val_loss: 0.1267 - val_acc: 0.9706\n",
      "\n",
      "Epoch 00001: val_loss improved from inf to 0.12667, saving model to C:/Users/sppol/Documents/Ai_deeplearning/Files/BaseLine(2)/BaseLineTeeth(2).h5\n",
      "Epoch 2/100\n",
      "300/300 [==============================] - 124s 414ms/step - loss: 0.1105 - acc: 0.9562 - val_loss: 0.0950 - val_acc: 0.9695\n",
      "\n",
      "Epoch 00002: val_loss improved from 0.12667 to 0.09498, saving model to C:/Users/sppol/Documents/Ai_deeplearning/Files/BaseLine(2)/BaseLineTeeth(2).h5\n",
      "Epoch 3/100\n",
      "300/300 [==============================] - 123s 409ms/step - loss: 0.1048 - acc: 0.9578 - val_loss: 0.0930 - val_acc: 0.9651\n",
      "\n",
      "Epoch 00003: val_loss improved from 0.09498 to 0.09305, saving model to C:/Users/sppol/Documents/Ai_deeplearning/Files/BaseLine(2)/BaseLineTeeth(2).h5\n",
      "Epoch 4/100\n",
      "300/300 [==============================] - 122s 407ms/step - loss: 0.1002 - acc: 0.9593 - val_loss: 0.0907 - val_acc: 0.9641\n",
      "\n",
      "Epoch 00004: val_loss improved from 0.09305 to 0.09065, saving model to C:/Users/sppol/Documents/Ai_deeplearning/Files/BaseLine(2)/BaseLineTeeth(2).h5\n",
      "Epoch 5/100\n",
      "300/300 [==============================] - 120s 400ms/step - loss: 0.0984 - acc: 0.9585 - val_loss: 0.0868 - val_acc: 0.9662\n",
      "\n",
      "Epoch 00005: val_loss improved from 0.09065 to 0.08680, saving model to C:/Users/sppol/Documents/Ai_deeplearning/Files/BaseLine(2)/BaseLineTeeth(2).h5\n",
      "Epoch 6/100\n",
      "300/300 [==============================] - 119s 398ms/step - loss: 0.0955 - acc: 0.9627 - val_loss: 0.0917 - val_acc: 0.9586\n",
      "\n",
      "Epoch 00006: val_loss did not improve from 0.08680\n",
      "Epoch 7/100\n",
      "300/300 [==============================] - 120s 402ms/step - loss: 0.0958 - acc: 0.9598 - val_loss: 0.1000 - val_acc: 0.9488\n",
      "\n",
      "Epoch 00007: val_loss did not improve from 0.08680\n",
      "Epoch 8/100\n",
      "300/300 [==============================] - 119s 398ms/step - loss: 0.0960 - acc: 0.9640 - val_loss: 0.0860 - val_acc: 0.9673\n",
      "\n",
      "Epoch 00008: val_loss improved from 0.08680 to 0.08599, saving model to C:/Users/sppol/Documents/Ai_deeplearning/Files/BaseLine(2)/BaseLineTeeth(2).h5\n",
      "Epoch 9/100\n",
      "300/300 [==============================] - 120s 401ms/step - loss: 0.0936 - acc: 0.9620 - val_loss: 0.0901 - val_acc: 0.9619\n",
      "Restoring model weights from the end of the best epoch\n",
      "\n",
      "Epoch 00009: val_loss did not improve from 0.08599\n",
      "Epoch 00009: early stopping\n"
     ]
    }
   ],
   "source": [
    "sk=teeth.fit_generator(\n",
    "    \n",
    "    train_generator,\n",
    "#     steps_per_epoch = train_generator.samples, ## batch_size,\n",
    "        steps_per_epoch = 300, ## batch_size,\n",
    "    callbacks=my_callbacks,\n",
    "#     validation_split =0.2 ,\n",
    "    validation_data = validation_generator, \n",
    "#     validation_steps = validation_generator.samples, ## batch_size,\n",
    "     validation_steps = 60, ## batch_size,\n",
    "    epochs = 100)"
   ]
  },
  {
   "cell_type": "code",
   "execution_count": 10,
   "metadata": {},
   "outputs": [],
   "source": [
    "teeth.save('BaseLineTeeth(2).h5')"
   ]
  },
  {
   "cell_type": "code",
   "execution_count": 11,
   "metadata": {},
   "outputs": [
    {
     "name": "stdout",
     "output_type": "stream",
     "text": [
      "dict_keys(['val_loss', 'val_acc', 'loss', 'acc'])\n"
     ]
    },
    {
     "data": {
      "image/png": "[encoded data removed]",
      "text/plain": [
       "<Figure size 432x288 with 1 Axes>"
      ]
     },
     "metadata": {
      "needs_background": "light"
     },
     "output_type": "display_data"
    },
    {
     "data": {
      "image/png": "[encoded data removed]",
      "text/plain": [
       "<Figure size 432x288 with 1 Axes>"
      ]
     },
     "metadata": {
      "needs_background": "light"
     },
     "output_type": "display_data"
    }
   ],
   "source": [
    "print(sk.history.keys())\n",
    "# summarize history for accuracy\n",
    "plt.plot(sk.history['acc'])\n",
    "plt.plot(sk.history['val_acc'])\n",
    "plt.title('model accuracy')\n",
    "plt.ylabel('accuracy')\n",
    "plt.xlabel('epoch')\n",
    "plt.legend(['train', 'test'], loc='upper left')\n",
    "plt.show()\n",
    "# summarize history for loss\n",
    "plt.plot(sk.history['loss'])\n",
    "plt.plot(sk.history['val_loss'])\n",
    "plt.title('model loss')\n",
    "plt.ylabel('loss')\n",
    "plt.xlabel('epoch')\n",
    "plt.legend(['train', 'test'], loc='upper left')\n",
    "plt.show()"
   ]
  },
  {
   "cell_type": "code",
   "execution_count": null,
   "metadata": {},
   "outputs": [],
   "source": []
  }
 ],
 "metadata": {
  "kernelspec": {
   "display_name": "Python 3",
   "language": "python",
   "name": "python3"
  },
  "language_info": {
   "codemirror_mode": {
    "name": "ipython",
    "version": 3
   },
   "file_extension": ".py",
   "mimetype": "text/x-python",
   "name": "python",
   "nbconvert_exporter": "python",
   "pygments_lexer": "ipython3",
   "version": "3.6.9"
  }
 },
 "nbformat": 4,
 "nbformat_minor": 2
}
