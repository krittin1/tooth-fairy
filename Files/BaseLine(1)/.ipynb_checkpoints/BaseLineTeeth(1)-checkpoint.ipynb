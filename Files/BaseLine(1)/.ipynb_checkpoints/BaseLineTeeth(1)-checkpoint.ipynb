{
 "cells": [
  {
   "cell_type": "code",
   "execution_count": 1,
   "metadata": {},
   "outputs": [
    {
     "name": "stderr",
     "output_type": "stream",
     "text": [
      "C:\\Users\\sppol\\Miniconda3\\envs\\py36\\lib\\site-packages\\tensorflow\\python\\framework\\dtypes.py:523: FutureWarning: Passing (type, 1) or '1type' as a synonym of type is deprecated; in a future version of numpy, it will be understood as (type, (1,)) / '(1,)type'.\n",
      "  _np_qint8 = np.dtype([(\"qint8\", np.int8, 1)])\n",
      "C:\\Users\\sppol\\Miniconda3\\envs\\py36\\lib\\site-packages\\tensorflow\\python\\framework\\dtypes.py:524: FutureWarning: Passing (type, 1) or '1type' as a synonym of type is deprecated; in a future version of numpy, it will be understood as (type, (1,)) / '(1,)type'.\n",
      "  _np_quint8 = np.dtype([(\"quint8\", np.uint8, 1)])\n",
      "C:\\Users\\sppol\\Miniconda3\\envs\\py36\\lib\\site-packages\\tensorflow\\python\\framework\\dtypes.py:525: FutureWarning: Passing (type, 1) or '1type' as a synonym of type is deprecated; in a future version of numpy, it will be understood as (type, (1,)) / '(1,)type'.\n",
      "  _np_qint16 = np.dtype([(\"qint16\", np.int16, 1)])\n",
      "C:\\Users\\sppol\\Miniconda3\\envs\\py36\\lib\\site-packages\\tensorflow\\python\\framework\\dtypes.py:526: FutureWarning: Passing (type, 1) or '1type' as a synonym of type is deprecated; in a future version of numpy, it will be understood as (type, (1,)) / '(1,)type'.\n",
      "  _np_quint16 = np.dtype([(\"quint16\", np.uint16, 1)])\n",
      "C:\\Users\\sppol\\Miniconda3\\envs\\py36\\lib\\site-packages\\tensorflow\\python\\framework\\dtypes.py:527: FutureWarning: Passing (type, 1) or '1type' as a synonym of type is deprecated; in a future version of numpy, it will be understood as (type, (1,)) / '(1,)type'.\n",
      "  _np_qint32 = np.dtype([(\"qint32\", np.int32, 1)])\n",
      "C:\\Users\\sppol\\Miniconda3\\envs\\py36\\lib\\site-packages\\tensorflow\\python\\framework\\dtypes.py:532: FutureWarning: Passing (type, 1) or '1type' as a synonym of type is deprecated; in a future version of numpy, it will be understood as (type, (1,)) / '(1,)type'.\n",
      "  np_resource = np.dtype([(\"resource\", np.ubyte, 1)])\n",
      "Using TensorFlow backend.\n"
     ]
    }
   ],
   "source": [
    "import tensorflow\n",
    "import keras\n",
    "import matplotlib.pyplot as plt\n",
    "from sklearn.metrics import classification_report\n",
    "from tensorflow.keras.preprocessing.image import ImageDataGenerator\n",
    "from keras.optimizers import Adam"
   ]
  },
  {
   "cell_type": "code",
   "execution_count": 8,
   "metadata": {},
   "outputs": [],
   "source": [
    "imageSize = 64\n",
    "train_data_dir = \"C:/Users/sppol/Documents/Ai_deeplearning/BaseLine_Dataset/train\"\n",
    "validation_data_dir = \"C:/Users/sppol/Documents/Ai_deeplearning/BaseLine_Dataset/validation\"\n",
    "test_data_dir = \"C:/Users/sppol/Documents/Ai_deeplearning/BaseLine_Dataset/test\""
   ]
  },
  {
   "cell_type": "code",
   "execution_count": 9,
   "metadata": {},
   "outputs": [
    {
     "name": "stdout",
     "output_type": "stream",
     "text": [
      "Found 1204 images belonging to 2 classes.\n",
      "Found 459 images belonging to 2 classes.\n",
      "Found 459 images belonging to 2 classes.\n"
     ]
    }
   ],
   "source": [
    "train_datagen = ImageDataGenerator(rescale=1./255,\n",
    "    shear_range=0.1,                \n",
    "    zoom_range=0.1,\n",
    "    width_shift_range=0.2,\n",
    "    height_shift_range=0.2,\n",
    "    rotation_range=45,                              \n",
    "    horizontal_flip=True,\n",
    "    ) # set validation split\n",
    "\n",
    "validation_datagen = ImageDataGenerator(rescale=1./255)\n",
    "test_datagen = ImageDataGenerator(rescale=1./255)\n",
    "\n",
    "train_generator = train_datagen.flow_from_directory(\n",
    "    train_data_dir,\n",
    "    target_size=(imageSize, imageSize),#64\n",
    "    batch_size=32,\n",
    "    color_mode=\"grayscale\",\n",
    "    classes=['Normal','Diseases']\n",
    "#     class_mode='categorical',\n",
    "    ) # set as training data\n",
    "\n",
    "validation_generator = validation_datagen.flow_from_directory(\n",
    "    validation_data_dir,\n",
    "    target_size=(imageSize, imageSize),#64\n",
    "    batch_size=32,\n",
    "    shuffle=False,\n",
    "    color_mode=\"grayscale\",\n",
    "#     class_mode='categorical',\n",
    "    classes=['Normal','Diseases']\n",
    "   \n",
    "    ) # set as validation data\n",
    "\n",
    "test_generator = test_datagen.flow_from_directory(\n",
    "    test_data_dir,\n",
    "    target_size=(imageSize, imageSize),#64\n",
    "    batch_size=32,\n",
    "    color_mode=\"grayscale\",\n",
    "    shuffle=False,\n",
    "#     class_mode='categorical',\n",
    "    classes=['Normal','Diseases']\n",
    "   \n",
    "    ) # set as test data\n"
   ]
  },
  {
   "cell_type": "code",
   "execution_count": 10,
   "metadata": {},
   "outputs": [],
   "source": [
    "from keras.models import Sequential\n",
    "from keras.layers import Conv2D, Dense, Flatten, MaxPooling2D\n",
    "from keras.layers import Activation ,Dropout\n",
    "from keras import optimizers"
   ]
  },
  {
   "cell_type": "code",
   "execution_count": 11,
   "metadata": {},
   "outputs": [
    {
     "name": "stdout",
     "output_type": "stream",
     "text": [
      "_________________________________________________________________\n",
      "Layer (type)                 Output Shape              Param #   \n",
      "=================================================================\n",
      "conv2d_4 (Conv2D)            (None, 64, 64, 32)        320       \n",
      "_________________________________________________________________\n",
      "max_pooling2d_4 (MaxPooling2 (None, 32, 32, 32)        0         \n",
      "_________________________________________________________________\n",
      "conv2d_5 (Conv2D)            (None, 32, 32, 64)        18496     \n",
      "_________________________________________________________________\n",
      "max_pooling2d_5 (MaxPooling2 (None, 16, 16, 64)        0         \n",
      "_________________________________________________________________\n",
      "conv2d_6 (Conv2D)            (None, 16, 16, 64)        36928     \n",
      "_________________________________________________________________\n",
      "dropout_3 (Dropout)          (None, 16, 16, 64)        0         \n",
      "_________________________________________________________________\n",
      "max_pooling2d_6 (MaxPooling2 (None, 8, 8, 64)          0         \n",
      "_________________________________________________________________\n",
      "flatten_2 (Flatten)          (None, 4096)              0         \n",
      "_________________________________________________________________\n",
      "dense_3 (Dense)              (None, 128)               524416    \n",
      "_________________________________________________________________\n",
      "dropout_4 (Dropout)          (None, 128)               0         \n",
      "_________________________________________________________________\n",
      "dense_4 (Dense)              (None, 2)                 258       \n",
      "=================================================================\n",
      "Total params: 580,418\n",
      "Trainable params: 580,418\n",
      "Non-trainable params: 0\n",
      "_________________________________________________________________\n"
     ]
    }
   ],
   "source": [
    "teeth = Sequential()\n",
    "teeth.add(Conv2D(32, (3, 3),  strides=(1, 1), padding = \"same\", activation = \"relu\", input_shape = (64, 64, 1)))\n",
    "teeth.add(MaxPooling2D((2, 2)))\n",
    "\n",
    "\n",
    "teeth.add(Conv2D(64, (3, 3),strides=(1, 1), padding = \"same\", activation = \"relu\"))\n",
    "teeth.add(MaxPooling2D((2, 2)))\n",
    "\n",
    "teeth.add(Conv2D(64, (3, 3),strides=(1, 1), padding = \"same\", activation = \"relu\"))\n",
    "teeth.add(Dropout(0.5))\n",
    "teeth.add(MaxPooling2D((2, 2)))\n",
    "\n",
    "teeth.add(Flatten())\n",
    "\n",
    "teeth.add(Dense(128, activation='relu'))\n",
    "teeth.add(Dropout(0.5))\n",
    "teeth.add(Dense(2, activation = \"sigmoid\"))\n",
    "\n",
    "# snake.compile(optimizer ='RMSprop', loss = \"binary_crossentropy\", metrics = [\"accuracy\"])\n",
    "# snake.compile( optimizer=rms, loss = \"binary_crossentropy\", metrics = [\"accuracy\"])\n",
    "\n",
    "teeth.compile(Adam(lr=0.001),loss = \"binary_crossentropy\", metrics = [\"accuracy\"])\n",
    "\n",
    "teeth.summary()"
   ]
  },
  {
   "cell_type": "code",
   "execution_count": 12,
   "metadata": {},
   "outputs": [],
   "source": [
    "filepath = \"C:/Users/sppol/Documents/Ai_deeplearning/Files/BaseLineTeeth.h5\"\n",
    "from keras.callbacks import ModelCheckpoint\n",
    "\n",
    "checkpointer = ModelCheckpoint(filepath, monitor='val_loss', verbose=1,\n",
    "                               save_best_only=True, save_weights_only=False,\n",
    "                               mode='min', period=1)\n",
    "early_stopper =  keras.callbacks.EarlyStopping(monitor='val_loss', min_delta=1e-3, patience=4, verbose=1, mode='min',\n",
    "        restore_best_weights=True)\n",
    "my_callbacks = [early_stopper,checkpointer]"
   ]
  },
  {
   "cell_type": "code",
   "execution_count": 13,
   "metadata": {},
   "outputs": [
    {
     "name": "stdout",
     "output_type": "stream",
     "text": [
      "Epoch 1/100\n",
      "300/300 [==============================] - 130s 434ms/step - loss: 0.3358 - acc: 0.8101 - val_loss: 0.1261 - val_acc: 0.9662\n",
      "\n",
      "Epoch 00001: val_loss improved from inf to 0.12609, saving model to C:/Users/sppol/Documents/Ai_deeplearning/Files/BaseLineTeeth.h5\n",
      "Epoch 2/100\n",
      "300/300 [==============================] - 121s 403ms/step - loss: 0.1043 - acc: 0.9589 - val_loss: 0.1158 - val_acc: 0.9673\n",
      "\n",
      "Epoch 00002: val_loss improved from 0.12609 to 0.11581, saving model to C:/Users/sppol/Documents/Ai_deeplearning/Files/BaseLineTeeth.h5\n",
      "Epoch 3/100\n",
      "300/300 [==============================] - 122s 407ms/step - loss: 0.1022 - acc: 0.9578 - val_loss: 0.1099 - val_acc: 0.9695\n",
      "\n",
      "Epoch 00003: val_loss improved from 0.11581 to 0.10992, saving model to C:/Users/sppol/Documents/Ai_deeplearning/Files/BaseLineTeeth.h5\n",
      "Epoch 4/100\n",
      "300/300 [==============================] - 122s 407ms/step - loss: 0.0993 - acc: 0.9584 - val_loss: 0.1509 - val_acc: 0.9641\n",
      "\n",
      "Epoch 00004: val_loss did not improve from 0.10992\n",
      "Epoch 5/100\n",
      "300/300 [==============================] - 121s 402ms/step - loss: 0.1003 - acc: 0.9580 - val_loss: 0.1425 - val_acc: 0.9608\n",
      "\n",
      "Epoch 00005: val_loss did not improve from 0.10992\n",
      "Epoch 6/100\n",
      "300/300 [==============================] - 123s 409ms/step - loss: 0.1001 - acc: 0.9595 - val_loss: 0.1066 - val_acc: 0.9706\n",
      "\n",
      "Epoch 00006: val_loss improved from 0.10992 to 0.10658, saving model to C:/Users/sppol/Documents/Ai_deeplearning/Files/BaseLineTeeth.h5\n",
      "Epoch 7/100\n",
      "300/300 [==============================] - 119s 397ms/step - loss: 0.0960 - acc: 0.9605 - val_loss: 0.0996 - val_acc: 0.9586\n",
      "\n",
      "Epoch 00007: val_loss improved from 0.10658 to 0.09959, saving model to C:/Users/sppol/Documents/Ai_deeplearning/Files/BaseLineTeeth.h5\n",
      "Epoch 8/100\n",
      "300/300 [==============================] - 121s 403ms/step - loss: 0.0947 - acc: 0.9618 - val_loss: 0.1047 - val_acc: 0.9532\n",
      "\n",
      "Epoch 00008: val_loss did not improve from 0.09959\n",
      "Epoch 9/100\n",
      "300/300 [==============================] - 122s 408ms/step - loss: 0.0968 - acc: 0.9603 - val_loss: 0.0953 - val_acc: 0.9532\n",
      "\n",
      "Epoch 00009: val_loss improved from 0.09959 to 0.09529, saving model to C:/Users/sppol/Documents/Ai_deeplearning/Files/BaseLineTeeth.h5\n",
      "Epoch 10/100\n",
      "300/300 [==============================] - 123s 411ms/step - loss: 0.0944 - acc: 0.9594 - val_loss: 0.1094 - val_acc: 0.9434\n",
      "\n",
      "Epoch 00010: val_loss did not improve from 0.09529\n",
      "Epoch 11/100\n",
      "300/300 [==============================] - 123s 412ms/step - loss: 0.0920 - acc: 0.9605 - val_loss: 0.0898 - val_acc: 0.9695\n",
      "\n",
      "Epoch 00011: val_loss improved from 0.09529 to 0.08981, saving model to C:/Users/sppol/Documents/Ai_deeplearning/Files/BaseLineTeeth.h5\n",
      "Epoch 12/100\n",
      "300/300 [==============================] - 122s 407ms/step - loss: 0.0891 - acc: 0.9641 - val_loss: 0.0991 - val_acc: 0.9662\n",
      "\n",
      "Epoch 00012: val_loss did not improve from 0.08981\n",
      "Epoch 13/100\n",
      "300/300 [==============================] - 123s 408ms/step - loss: 0.0919 - acc: 0.9634 - val_loss: 0.0931 - val_acc: 0.9630\n",
      "\n",
      "Epoch 00013: val_loss did not improve from 0.08981\n",
      "Epoch 14/100\n",
      "300/300 [==============================] - 122s 406ms/step - loss: 0.0867 - acc: 0.9642 - val_loss: 0.0885 - val_acc: 0.9739\n",
      "\n",
      "Epoch 00014: val_loss improved from 0.08981 to 0.08845, saving model to C:/Users/sppol/Documents/Ai_deeplearning/Files/BaseLineTeeth.h5\n",
      "Epoch 15/100\n",
      "300/300 [==============================] - 125s 417ms/step - loss: 0.0905 - acc: 0.9669 - val_loss: 0.0891 - val_acc: 0.9662\n",
      "\n",
      "Epoch 00015: val_loss did not improve from 0.08845\n",
      "Epoch 16/100\n",
      "300/300 [==============================] - 127s 422ms/step - loss: 0.0853 - acc: 0.9671 - val_loss: 0.0833 - val_acc: 0.9695\n",
      "\n",
      "Epoch 00016: val_loss improved from 0.08845 to 0.08328, saving model to C:/Users/sppol/Documents/Ai_deeplearning/Files/BaseLineTeeth.h5\n",
      "Epoch 17/100\n",
      "300/300 [==============================] - 126s 419ms/step - loss: 0.0847 - acc: 0.9664 - val_loss: 0.0869 - val_acc: 0.9760\n",
      "\n",
      "Epoch 00017: val_loss did not improve from 0.08328\n",
      "Epoch 18/100\n",
      "300/300 [==============================] - 123s 408ms/step - loss: 0.0836 - acc: 0.9691 - val_loss: 0.0837 - val_acc: 0.9695\n",
      "\n",
      "Epoch 00018: val_loss did not improve from 0.08328\n",
      "Epoch 19/100\n",
      "300/300 [==============================] - 133s 444ms/step - loss: 0.0808 - acc: 0.9678 - val_loss: 0.0801 - val_acc: 0.9695\n",
      "\n",
      "Epoch 00019: val_loss improved from 0.08328 to 0.08008, saving model to C:/Users/sppol/Documents/Ai_deeplearning/Files/BaseLineTeeth.h5\n",
      "Epoch 20/100\n",
      "300/300 [==============================] - 132s 441ms/step - loss: 0.0800 - acc: 0.9693 - val_loss: 0.0804 - val_acc: 0.9630\n",
      "\n",
      "Epoch 00020: val_loss did not improve from 0.08008\n",
      "Epoch 21/100\n",
      "300/300 [==============================] - 127s 424ms/step - loss: 0.0822 - acc: 0.9683 - val_loss: 0.0810 - val_acc: 0.9749\n",
      "\n",
      "Epoch 00021: val_loss did not improve from 0.08008\n",
      "Epoch 22/100\n",
      "300/300 [==============================] - 127s 425ms/step - loss: 0.0768 - acc: 0.9720 - val_loss: 0.0858 - val_acc: 0.9673\n",
      "\n",
      "Epoch 00022: val_loss did not improve from 0.08008\n",
      "Epoch 23/100\n",
      "300/300 [==============================] - 122s 407ms/step - loss: 0.0737 - acc: 0.9736 - val_loss: 0.0800 - val_acc: 0.9651\n",
      "Restoring model weights from the end of the best epoch\n",
      "\n",
      "Epoch 00023: val_loss improved from 0.08008 to 0.08004, saving model to C:/Users/sppol/Documents/Ai_deeplearning/Files/BaseLineTeeth.h5\n",
      "Epoch 00023: early stopping\n"
     ]
    }
   ],
   "source": [
    "sk=teeth.fit_generator(\n",
    "    \n",
    "    train_generator,\n",
    "#     steps_per_epoch = train_generator.samples, ## batch_size,\n",
    "        steps_per_epoch = 300, ## batch_size,\n",
    "    callbacks=my_callbacks,\n",
    "#     validation_split =0.2 ,\n",
    "    validation_data = validation_generator, \n",
    "#     validation_steps = validation_generator.samples, ## batch_size,\n",
    "     validation_steps = 60, ## batch_size,\n",
    "    epochs = 100)"
   ]
  },
  {
   "cell_type": "code",
   "execution_count": 14,
   "metadata": {},
   "outputs": [],
   "source": [
    "teeth.save('BaseLineTeeth.h5')"
   ]
  },
  {
   "cell_type": "code",
   "execution_count": 15,
   "metadata": {},
   "outputs": [
    {
     "name": "stdout",
     "output_type": "stream",
     "text": [
      "dict_keys(['val_loss', 'val_acc', 'loss', 'acc'])\n"
     ]
    },
    {
     "data": {
      "image/png": "[encoded data removed]",
      "text/plain": [
       "<Figure size 432x288 with 1 Axes>"
      ]
     },
     "metadata": {
      "needs_background": "light"
     },
     "output_type": "display_data"
    },
    {
     "data": {
      "image/png": "[encoded data removed]",
      "text/plain": [
       "<Figure size 432x288 with 1 Axes>"
      ]
     },
     "metadata": {
      "needs_background": "light"
     },
     "output_type": "display_data"
    }
   ],
   "source": [
    "print(sk.history.keys())\n",
    "# summarize history for accuracy\n",
    "plt.plot(sk.history['acc'])\n",
    "plt.plot(sk.history['val_acc'])\n",
    "plt.title('model accuracy')\n",
    "plt.ylabel('accuracy')\n",
    "plt.xlabel('epoch')\n",
    "plt.legend(['train', 'test'], loc='upper left')\n",
    "plt.show()\n",
    "# summarize history for loss\n",
    "plt.plot(sk.history['loss'])\n",
    "plt.plot(sk.history['val_loss'])\n",
    "plt.title('model loss')\n",
    "plt.ylabel('loss')\n",
    "plt.xlabel('epoch')\n",
    "plt.legend(['train', 'test'], loc='upper left')\n",
    "plt.show()"
   ]
  },
  {
   "cell_type": "code",
   "execution_count": null,
   "metadata": {},
   "outputs": [],
   "source": []
  }
 ],
 "metadata": {
  "kernelspec": {
   "display_name": "Python 3",
   "language": "python",
   "name": "python3"
  },
  "language_info": {
   "codemirror_mode": {
    "name": "ipython",
    "version": 3
   },
   "file_extension": ".py",
   "mimetype": "text/x-python",
   "name": "python",
   "nbconvert_exporter": "python",
   "pygments_lexer": "ipython3",
   "version": "3.6.9"
  }
 },
 "nbformat": 4,
 "nbformat_minor": 2
}
