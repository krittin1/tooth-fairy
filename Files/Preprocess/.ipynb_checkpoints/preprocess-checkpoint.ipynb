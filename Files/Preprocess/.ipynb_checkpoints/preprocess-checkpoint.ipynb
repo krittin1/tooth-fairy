{
 "cells": [
  {
   "cell_type": "code",
   "execution_count": null,
   "metadata": {},
   "outputs": [],
   "source": [
    "import cv2\n",
    "import numpy as np\n",
    "import tensorflow\n",
    "import keras\n",
    "import os\n",
    "import matplotlib.pyplot as plt\n",
    "from random import shuffle\n",
    "from sklearn.model_selection import train_test_split\n",
    "from random import shuffle\n",
    "from sklearn.metrics import classification_report\n",
    "from tensorflow.keras.preprocessing.image import ImageDataGenerator\n",
    "from keras.optimizers import Adam"
   ]
  },
  {
   "cell_type": "code",
   "execution_count": null,
   "metadata": {},
   "outputs": [],
   "source": [
    "imageSize = 64\n",
    "train_data_dir = \"C:/Users/sppol/Documents/Ai_Deeplearning/new/train\"\n",
    "validation_data_dir = \"C:/Users/sppol/Documents/Ai_Deeplearning/new/validation\"\n",
    "test_data_dir = \"C:/Users/sppol/Documents/Ai_deeplearning/new/test\""
   ]
  },
  {
   "cell_type": "code",
   "execution_count": null,
   "metadata": {},
   "outputs": [],
   "source": [
    "train_datagen = ImageDataGenerator(rescale=1./255,\n",
    "    shear_range=0.1,                \n",
    "    zoom_range=0.1,\n",
    "    width_shift_range=0.2,\n",
    "    height_shift_range=0.2,\n",
    "    rotation_range=45,                              \n",
    "    horizontal_flip=True,\n",
    "    ) # set validation split\n",
    "\n",
    "validation_datagen = ImageDataGenerator(rescale=1./255)\n",
    "test_datagen = ImageDataGenerator(rescale=1./255)\n",
    "\n",
    "train_generator = train_datagen.flow_from_directory(\n",
    "    train_data_dir,\n",
    "    target_size=(imageSize, imageSize),#64\n",
    "    batch_size=32,\n",
    "    color_mode=\"grayscale\",\n",
    "    classes=['Normal2','Diseases']\n",
    "#     class_mode='categorical',\n",
    "    ) # set as training data\n",
    "\n",
    "validation_generator = validation_datagen.flow_from_directory(\n",
    "    validation_data_dir,\n",
    "    target_size=(imageSize, imageSize),#64\n",
    "    batch_size=32,\n",
    "    shuffle=False,\n",
    "    color_mode=\"grayscale\",\n",
    "#     class_mode='categorical',\n",
    "    classes=['Normal2','Diseases']\n",
    "   \n",
    "    ) # set as validation data\n",
    "\n",
    "test_generator = test_datagen.flow_from_directory(\n",
    "    validation_data_dir,\n",
    "    target_size=(imageSize, imageSize),#64\n",
    "    batch_size=24,\n",
    "    color_mode=\"grayscale\",\n",
    "    shuffle=False,\n",
    "#     class_mode='categorical',\n",
    "    classes=['Normal2','Diseases']\n",
    "   \n",
    "    ) # set as test data\n"
   ]
  },
  {
   "cell_type": "code",
   "execution_count": null,
   "metadata": {},
   "outputs": [],
   "source": [
    "from keras.models import Sequential\n",
    "from keras.layers import Conv2D, Dense, Flatten, MaxPooling2D\n",
    "from keras.layers import Activation ,Dropout\n",
    "from keras import optimizers\n"
   ]
  },
  {
   "cell_type": "code",
   "execution_count": null,
   "metadata": {},
   "outputs": [],
   "source": [
    "teeth = Sequential()\n",
    "teeth.add(Conv2D(32, (3, 3),  strides=(1, 1), padding = \"same\", activation = \"relu\", input_shape = (64, 64, 1)))\n",
    "teeth.add(MaxPooling2D((2, 2)))\n",
    "\n",
    "\n",
    "teeth.add(Conv2D(64, (3, 3),strides=(1, 1), padding = \"same\", activation = \"relu\"))\n",
    "teeth.add(MaxPooling2D((2, 2)))\n",
    "\n",
    "teeth.add(Conv2D(64, (3, 3),strides=(1, 1), padding = \"same\", activation = \"relu\"))\n",
    "teeth.add(Dropout(0.5))\n",
    "teeth.add(MaxPooling2D((2, 2)))\n",
    "\n",
    "teeth.add(Flatten())\n",
    "\n",
    "teeth.add(Dense(128, activation='relu'))\n",
    "teeth.add(Dropout(0.5))\n",
    "teeth.add(Dense(2, activation = \"sigmoid\"))\n",
    "\n",
    "# snake.compile(optimizer ='RMSprop', loss = \"binary_crossentropy\", metrics = [\"accuracy\"])\n",
    "# snake.compile( optimizer=rms, loss = \"binary_crossentropy\", metrics = [\"accuracy\"])\n",
    "\n",
    "teeth.compile(Adam(lr=0.001),loss = \"binary_crossentropy\", metrics = [\"accuracy\"])\n",
    "\n",
    "teeth.summary()"
   ]
  },
  {
   "cell_type": "code",
   "execution_count": 29,
   "metadata": {},
   "outputs": [],
   "source": [
    "filepath = \"C:/Users/sppol/Documents/Ai_deeplearning/Files/teeth.h5\"\n",
    "from keras.callbacks import ModelCheckpoint\n",
    "\n",
    "checkpointer = ModelCheckpoint(filepath, monitor='val_loss', verbose=1,\n",
    "                               save_best_only=True, save_weights_only=False,\n",
    "                               mode='min', period=1)\n",
    "early_stopper =  keras.callbacks.EarlyStopping(monitor='val_loss', min_delta=1e-3, patience=4, verbose=1, mode='min',\n",
    "        restore_best_weights=True)\n",
    "my_callbacks = [early_stopper,checkpointer]"
   ]
  },
  {
   "cell_type": "code",
   "execution_count": 30,
   "metadata": {},
   "outputs": [
    {
     "name": "stdout",
     "output_type": "stream",
     "text": [
      "Epoch 1/100\n",
      "500/500 [==============================] - 226s 451ms/step - loss: 0.6153 - acc: 0.6738 - val_loss: 0.5370 - val_acc: 0.7774\n",
      "\n",
      "Epoch 00001: val_loss improved from inf to 0.53699, saving model to C:/Users/sppol/Documents/Ai_deeplearning/Files/teeth.h5\n",
      "Epoch 2/100\n",
      "500/500 [==============================] - 210s 420ms/step - loss: 0.1822 - acc: 0.9301 - val_loss: 0.1724 - val_acc: 0.9777\n",
      "\n",
      "Epoch 00002: val_loss improved from 0.53699 to 0.17243, saving model to C:/Users/sppol/Documents/Ai_deeplearning/Files/teeth.h5\n",
      "Epoch 3/100\n",
      "500/500 [==============================] - 212s 424ms/step - loss: 0.0643 - acc: 0.9682 - val_loss: 0.0930 - val_acc: 0.9623\n",
      "\n",
      "Epoch 00003: val_loss improved from 0.17243 to 0.09299, saving model to C:/Users/sppol/Documents/Ai_deeplearning/Files/teeth.h5\n",
      "Epoch 4/100\n",
      "500/500 [==============================] - 211s 422ms/step - loss: 0.0586 - acc: 0.9704 - val_loss: 0.0918 - val_acc: 0.9692\n",
      "\n",
      "Epoch 00004: val_loss improved from 0.09299 to 0.09176, saving model to C:/Users/sppol/Documents/Ai_deeplearning/Files/teeth.h5\n",
      "Epoch 5/100\n",
      "500/500 [==============================] - 213s 425ms/step - loss: 0.0545 - acc: 0.9725 - val_loss: 0.0882 - val_acc: 0.9692\n",
      "\n",
      "Epoch 00005: val_loss improved from 0.09176 to 0.08818, saving model to C:/Users/sppol/Documents/Ai_deeplearning/Files/teeth.h5\n",
      "Epoch 6/100\n",
      "500/500 [==============================] - 206s 413ms/step - loss: 0.0514 - acc: 0.9745 - val_loss: 0.0856 - val_acc: 0.9795\n",
      "\n",
      "Epoch 00006: val_loss improved from 0.08818 to 0.08560, saving model to C:/Users/sppol/Documents/Ai_deeplearning/Files/teeth.h5\n",
      "Epoch 7/100\n",
      "500/500 [==============================] - 215s 429ms/step - loss: 0.0490 - acc: 0.9771 - val_loss: 0.0864 - val_acc: 0.9640\n",
      "\n",
      "Epoch 00007: val_loss did not improve from 0.08560\n",
      "Epoch 8/100\n",
      "500/500 [==============================] - 195s 389ms/step - loss: 0.0468 - acc: 0.9777 - val_loss: 0.0906 - val_acc: 0.9503\n",
      "\n",
      "Epoch 00008: val_loss did not improve from 0.08560\n",
      "Epoch 9/100\n",
      "500/500 [==============================] - 198s 395ms/step - loss: 0.0418 - acc: 0.9807 - val_loss: 0.1121 - val_acc: 0.9349\n",
      "\n",
      "Epoch 00009: val_loss did not improve from 0.08560\n",
      "Epoch 10/100\n",
      "500/500 [==============================] - 197s 394ms/step - loss: 0.0419 - acc: 0.9794 - val_loss: 0.0928 - val_acc: 0.9658\n",
      "Restoring model weights from the end of the best epoch\n",
      "\n",
      "Epoch 00010: val_loss did not improve from 0.08560\n",
      "Epoch 00010: early stopping\n"
     ]
    }
   ],
   "source": [
    "sk=teeth.fit_generator(\n",
    "    \n",
    "    train_generator,\n",
    "#     steps_per_epoch = train_generator.samples, ## batch_size,\n",
    "        steps_per_epoch = 300, ## batch_size,\n",
    "    callbacks=my_callbacks,\n",
    "#     validation_split =0.2 ,\n",
    "    validation_data = validation_generator, \n",
    "#     validation_steps = validation_generator.samples, ## batch_size,\n",
    "     validation_steps = 75, ## batch_size,\n",
    "    epochs = 100)"
   ]
  },
  {
   "cell_type": "code",
   "execution_count": 31,
   "metadata": {},
   "outputs": [],
   "source": [
    "teeth.save('teeth.h5')"
   ]
  },
  {
   "cell_type": "code",
   "execution_count": 32,
   "metadata": {},
   "outputs": [
    {
     "name": "stdout",
     "output_type": "stream",
     "text": [
      "dict_keys(['val_loss', 'val_acc', 'loss', 'acc'])\n"
     ]
    },
    {
     "data": {
      "image/png": "[encoded data removed]",
      "text/plain": [
       "<Figure size 432x288 with 1 Axes>"
      ]
     },
     "metadata": {
      "needs_background": "light"
     },
     "output_type": "display_data"
    },
    {
     "data": {
      "image/png": "[encoded data removed]",
      "text/plain": [
       "<Figure size 432x288 with 1 Axes>"
      ]
     },
     "metadata": {
      "needs_background": "light"
     },
     "output_type": "display_data"
    }
   ],
   "source": [
    "print(sk.history.keys())\n",
    "# summarize history for accuracy\n",
    "plt.plot(sk.history['acc'])\n",
    "plt.plot(sk.history['val_acc'])\n",
    "plt.title('model accuracy')\n",
    "plt.ylabel('accuracy')\n",
    "plt.xlabel('epoch')\n",
    "plt.legend(['train', 'test'], loc='upper left')\n",
    "plt.show()\n",
    "# summarize history for loss\n",
    "plt.plot(sk.history['loss'])\n",
    "plt.plot(sk.history['val_loss'])\n",
    "plt.title('model loss')\n",
    "plt.ylabel('loss')\n",
    "plt.xlabel('epoch')\n",
    "plt.legend(['train', 'test'], loc='upper left')\n",
    "plt.show()"
   ]
  },
  {
   "cell_type": "code",
   "execution_count": null,
   "metadata": {},
   "outputs": [],
   "source": []
  }
 ],
 "metadata": {
  "kernelspec": {
   "display_name": "Python 3",
   "language": "python",
   "name": "python3"
  },
  "language_info": {
   "codemirror_mode": {
    "name": "ipython",
    "version": 3
   },
   "file_extension": ".py",
   "mimetype": "text/x-python",
   "name": "python",
   "nbconvert_exporter": "python",
   "pygments_lexer": "ipython3",
   "version": "3.6.9"
  }
 },
 "nbformat": 4,
 "nbformat_minor": 2
}
